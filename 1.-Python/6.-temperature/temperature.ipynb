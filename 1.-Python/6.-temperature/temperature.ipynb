{
 "cells": [
  {
   "cell_type": "markdown",
   "metadata": {},
   "source": [
    "# Processor temperature\n",
    "\n",
    "We have a temperature sensor in the processor of our company's server. We want to analyze the data provided to determinate whether we should change the cooling system for a better one. It is expensive and as a data analyst we cannot make decisions without a basis.\n",
    "\n",
    "We provide the temperatures measured throughout the 24 hours of a day in a list-type data structure composed of 24 integers:\n",
    "```\n",
    "temperatures_C = [33,66,65,0,59,60,62,64,70,76,80,69,80,83,68,79,61,53,50,49,53,48,45,39]\n",
    "```\n",
    "\n",
    "## Goals\n",
    "\n",
    "1. Treatment of lists\n",
    "2. Use of loop or list comprenhention\n",
    "3. Calculation of the mean, minimum and maximum.\n",
    "4. Filtering of lists.\n",
    "5. Interpolate an outlier.\n",
    "6. Logical operators.\n",
    "7. Print"
   ]
  },
  {
   "cell_type": "markdown",
   "metadata": {},
   "source": [
    "## Temperature graph\n",
    "To facilitate understanding, the temperature graph is shown below. You do not have to do anything in this section. The test starts in **Problem**."
   ]
  },
  {
   "cell_type": "code",
   "execution_count": 5,
   "metadata": {},
   "outputs": [
    {
     "ename": "ModuleNotFoundError",
     "evalue": "No module named 'matplotlib'",
     "output_type": "error",
     "traceback": [
      "\u001b[0;31m---------------------------------------------------------------------------\u001b[0m",
      "\u001b[0;31mModuleNotFoundError\u001b[0m                       Traceback (most recent call last)",
      "\u001b[0;32m<ipython-input-5-5d623b03114c>\u001b[0m in \u001b[0;36m<module>\u001b[0;34m\u001b[0m\n\u001b[1;32m      1\u001b[0m \u001b[0;31m# import\u001b[0m\u001b[0;34m\u001b[0m\u001b[0;34m\u001b[0m\u001b[0;34m\u001b[0m\u001b[0m\n\u001b[0;32m----> 2\u001b[0;31m \u001b[0;32mimport\u001b[0m \u001b[0mmatplotlib\u001b[0m\u001b[0;34m.\u001b[0m\u001b[0mpyplot\u001b[0m \u001b[0;32mas\u001b[0m \u001b[0mplt\u001b[0m\u001b[0;34m\u001b[0m\u001b[0;34m\u001b[0m\u001b[0m\n\u001b[0m\u001b[1;32m      3\u001b[0m \u001b[0mget_ipython\u001b[0m\u001b[0;34m(\u001b[0m\u001b[0;34m)\u001b[0m\u001b[0;34m.\u001b[0m\u001b[0mrun_line_magic\u001b[0m\u001b[0;34m(\u001b[0m\u001b[0;34m'matplotlib'\u001b[0m\u001b[0;34m,\u001b[0m \u001b[0;34m'inline'\u001b[0m\u001b[0;34m)\u001b[0m\u001b[0;34m\u001b[0m\u001b[0;34m\u001b[0m\u001b[0m\n\u001b[1;32m      4\u001b[0m \u001b[0;34m\u001b[0m\u001b[0m\n\u001b[1;32m      5\u001b[0m \u001b[0;31m# axis x, axis y\u001b[0m\u001b[0;34m\u001b[0m\u001b[0;34m\u001b[0m\u001b[0;34m\u001b[0m\u001b[0m\n",
      "\u001b[0;31mModuleNotFoundError\u001b[0m: No module named 'matplotlib'"
     ]
    }
   ],
   "source": [
    "# import\n",
    "import matplotlib.pyplot as plt\n",
    "%matplotlib inline\n",
    "\n",
    "# axis x, axis y\n",
    "y = [33,66,65,0,59,60,62,64,70,76,80,81,80,83,90,79,61,53,50,49,53,48,45,39]\n",
    "x = list(range(len(y)))\n",
    "\n",
    "# plot\n",
    "plt.plot(x, y)\n",
    "plt.axhline(y=70, linewidth=1, color='r')\n",
    "plt.xlabel('hours')\n",
    "plt.ylabel('Temperature ºC')\n",
    "plt.title('Temperatures of our server throughout the day')"
   ]
  },
  {
   "cell_type": "markdown",
   "metadata": {},
   "source": [
    "## Problem\n",
    "\n",
    "If the sensor detects more than 4 hours with temperatures greater than or equal to 70ºC or any temperature above 80ºC or the average exceeds 65ºC throughout the day, we must give the order to change the cooling system to avoid damaging the processor.\n",
    "\n",
    "We will guide you step by step so you can make the decision by calculating some intermediate steps:\n",
    "\n",
    "1. Minimum temperature\n",
    "2. Maximum temperature\n",
    "3. Temperatures equal to or greater than 70ºC\n",
    "4. Average temperatures throughout the day.\n",
    "5. If there was a sensor failure at 03:00 and we did not capture the data, how would you estimate the value that we lack? Correct that value in the list of temperatures.\n",
    "6. Bonus: Our maintenance staff is from the United States and does not understand the international metric system. Pass temperatures to Degrees Fahrenheit.\n",
    "\n",
    "Formula: F = 1.8 * C + 32\n",
    "\n",
    "web: https://en.wikipedia.org/wiki/Conversion_of_units_of_temperature\n"
   ]
  },
  {
   "cell_type": "code",
   "execution_count": 6,
   "metadata": {},
   "outputs": [
    {
     "name": "stdout",
     "output_type": "stream",
     "text": [
      "minimum = 0\n"
     ]
    }
   ],
   "source": [
    "# assign a variable to the list of temperatures\n",
    "temperatures_C = [33,66,65,0,59,60,62,64,70,76,80,81,80,83,90,79,61,53,50,49,53,48,45,39]\n",
    "\n",
    "# 1. Calculate the minimum of the list and print the value using print()\n",
    "min_temp=min(temperatures_C)\n",
    "print(\"minimum =\",min_temp)"
   ]
  },
  {
   "cell_type": "markdown",
   "metadata": {},
   "source": [
    "**Expected output**: \n",
    "```\n",
    "minimum = 0\n",
    "```"
   ]
  },
  {
   "cell_type": "code",
   "execution_count": 7,
   "metadata": {},
   "outputs": [
    {
     "name": "stdout",
     "output_type": "stream",
     "text": [
      "maximum = 90\n"
     ]
    }
   ],
   "source": [
    "# 2. Calculate the maximum of the list and print the value using print()\n",
    "max_temp=max(temperatures_C)\n",
    "print(\"maximum =\",max_temp)"
   ]
  },
  {
   "cell_type": "markdown",
   "metadata": {},
   "source": [
    "**Expected output**: \n",
    "```\n",
    "maximum = 90\n",
    "```"
   ]
  },
  {
   "cell_type": "code",
   "execution_count": 8,
   "metadata": {},
   "outputs": [
    {
     "name": "stdout",
     "output_type": "stream",
     "text": [
      "Temperature higher or equal than 70ºC are: [70, 76, 80, 81, 80, 83, 90, 79]\n"
     ]
    }
   ],
   "source": [
    "# 3. Items in the list that are greater than 70ºC and print the result\n",
    "greater_than_70=[i for i in temperatures_C\n",
    "                        if i>=70]\n",
    "print(\"Temperature higher or equal than 70ºC are:\", greater_than_70)"
   ]
  },
  {
   "cell_type": "markdown",
   "metadata": {},
   "source": [
    "**Expected output**: \n",
    "```\n",
    "temperatures higher or equal than 70ºC [70, 76, 80, 81, 80, 83, 90, 79]\n",
    "```"
   ]
  },
  {
   "cell_type": "code",
   "execution_count": 9,
   "metadata": {},
   "outputs": [
    {
     "name": "stdout",
     "output_type": "stream",
     "text": [
      "The mean is = 60.25\n"
     ]
    }
   ],
   "source": [
    "# 4. Calculate the mean temperature throughout the day and print the result\n",
    "avg_temp=sum(temperatures_C)/len(temperatures_C)\n",
    "print(\"The mean is =\",avg_temp)"
   ]
  },
  {
   "cell_type": "markdown",
   "metadata": {},
   "source": [
    "**Expected output**: \n",
    "```\n",
    "mean = 60.25\n",
    "```"
   ]
  },
  {
   "cell_type": "code",
   "execution_count": 10,
   "metadata": {},
   "outputs": [
    {
     "name": "stdout",
     "output_type": "stream",
     "text": [
      "The estimation of the missing value is 62.0\n"
     ]
    }
   ],
   "source": [
    "# 5.1 Solve the fault in the sensor by estimating a value\n",
    "temperatures_C.remove(temperatures_C[3])\n",
    "missing_value=(temperatures_C[2]+(temperatures_C[3]))/2\n",
    "print(\"The estimation of the missing value is\",(missing_value))"
   ]
  },
  {
   "cell_type": "markdown",
   "metadata": {},
   "source": [
    "**Expected output**: \n",
    "```\n",
    "Estimation of the temperature at 3:00 = 62.0\n",
    "```"
   ]
  },
  {
   "cell_type": "code",
   "execution_count": 11,
   "metadata": {},
   "outputs": [
    {
     "name": "stdout",
     "output_type": "stream",
     "text": [
      "The corrected list of temperatures is: [33, 66, 65, 62, 59, 60, 62, 64, 70, 76, 80, 81, 80, 83, 90, 79, 61, 53, 50, 49, 53, 48, 45, 39]\n"
     ]
    }
   ],
   "source": [
    "# 5.2 Update of the estimated value at 03:00 on the list\n",
    "temperatures_C.insert(3,round(missing_value))\n",
    "print(\"The corrected list of temperatures is:\",temperatures_C)"
   ]
  },
  {
   "cell_type": "markdown",
   "metadata": {},
   "source": [
    "**Expected output**: \n",
    "```\n",
    "Corrected temperatures after estimation:  [33, 66, 65, 62.0, 59, 60, 62, 64, 70, 76, 80, 81, 80, 83, 90, 79, 61, 53, 50, 49, 53, 48, 45, 39]\n",
    "```"
   ]
  },
  {
   "cell_type": "code",
   "execution_count": 39,
   "metadata": {},
   "outputs": [
    {
     "name": "stdout",
     "output_type": "stream",
     "text": [
      "Temperatures in Fahrenheit grades = [91.4, 150.8, 149.0, 143.60000000000002, 138.2, 140.0, 143.60000000000002, 147.2, 158.0, 168.8, 176.0, 177.8, 176.0, 181.4, 194.0, 174.20000000000002, 141.8, 127.4, 122.0, 120.2, 127.4, 118.4, 113.0, 102.2]\n"
     ]
    }
   ],
   "source": [
    "# Bonus: convert the list of ºC to ºFarenheit\n",
    "temperatures_F=[]\n",
    "for i in temperatures_C:\n",
    "    temperatures_F.append(1.8*i+32)\n",
    "print(\"Temperatures in Fahrenheit grades =\",temperatures_F)"
   ]
  },
  {
   "cell_type": "markdown",
   "metadata": {},
   "source": [
    "**Expected output**: \n",
    "```\n",
    "Temperatures in Fahrenheit Grades = [91.4, 150.8, 149.0, 143.60000000000002, 138.2, 140.0, 143.60000000000002, 147.2, 158.0, 168.8, 176.0, 177.8, 176.0, 181.4, 194.0, 174.20000000000002, 141.8, 127.4, 122.0, 120.2, 127.4, 118.4, 113.0, 102.2]\n",
    "```"
   ]
  },
  {
   "cell_type": "markdown",
   "metadata": {},
   "source": [
    "## Take the decision\n",
    "Remember that if the sensor detects more than 4 hours with temperatures greater than or equal to 70ºC or any temperature higher than 80ºC or the average was higher than 65ºC throughout the day, we must give the order to change the cooling system to avoid the danger of damaging the equipment:\n",
    "* more than 4 hours with temperatures greater than or equal to 70ºC\n",
    "* some temperature higher than 80ºC\n",
    "* average was higher than 65ºC throughout the day\n",
    "If any of these three is met, the cooling system must be changed.\n"
   ]
  },
  {
   "cell_type": "code",
   "execution_count": 13,
   "metadata": {},
   "outputs": [
    {
     "data": {
      "text/plain": [
       "True"
      ]
     },
     "execution_count": 13,
     "metadata": {},
     "output_type": "execute_result"
    }
   ],
   "source": [
    "# Print True or False depending on whether you would change the cooling system or not\n",
    "sum(greater_than_70)>4 or max_temp>80 or avg_temp>65"
   ]
  },
  {
   "cell_type": "markdown",
   "metadata": {},
   "source": [
    "**Expected output**: \n",
    "```\n",
    "True\n",
    "```"
   ]
  },
  {
   "cell_type": "markdown",
   "metadata": {},
   "source": [
    "## Future improvements\n",
    "1. We want the hours (not the temperatures) whose temperature exceeds 70ºC\n",
    "2. Condition that those hours are more than 4 consecutive and consecutive, not simply the sum of the whole set. Is this condition met?\n",
    "3. Average of each of the lists (ºC and ºF). How they relate?\n",
    "4. Standard deviation of each of the lists. How they relate?\n"
   ]
  },
  {
   "cell_type": "code",
   "execution_count": 14,
   "metadata": {},
   "outputs": [
    {
     "name": "stdout",
     "output_type": "stream",
     "text": [
      "[8, 9, 10, 11, 12, 13, 14, 15]\n"
     ]
    }
   ],
   "source": [
    "# 1. We want the hours (not the temperatures) whose temperature exceeds 70ºC\n",
    "h_g_t_70 = []\n",
    "hours=list(enumerate(temperatures_C))\n",
    "for i in hours:\n",
    "    if (i[1])>=70:\n",
    "        h_g_t_70.append(i[0])\n",
    "print(h_g_t_70)"
   ]
  },
  {
   "cell_type": "markdown",
   "metadata": {},
   "source": [
    "**Expected output**: \n",
    "```\n",
    "[8, 9, 10, 11, 12, 13, 14, 15]```"
   ]
  },
  {
   "cell_type": "code",
   "execution_count": 52,
   "metadata": {},
   "outputs": [
    {
     "name": "stdout",
     "output_type": "stream",
     "text": [
      "True\n",
      "The list has more than 4 consecutive hours\n"
     ]
    }
   ],
   "source": [
    "# 2. Condition that those hours are more than 4 consecutive and consecutive, not simply the sum of the whole set. Is this condition met?\n",
    "for i in h_g_t_70:\n",
    "    print(h_g_t_70[0]+5==h_g_t_70[5] or h_g_t_70[1]+5==h_g_t_70[6] or h_g_t_70[2]+5==i[7])\n",
    "    print(\"The list has more than 4 consecutive hours\")\n",
    "    break"
   ]
  },
  {
   "cell_type": "markdown",
   "metadata": {},
   "source": [
    "**Expected output**: \n",
    "```\n",
    "True\n",
    "```"
   ]
  },
  {
   "cell_type": "code",
   "execution_count": 64,
   "metadata": {},
   "outputs": [
    {
     "name": "stdout",
     "output_type": "stream",
     "text": [
      "The averege value of the temperature lists are 63 for the ºC, and 145 for the ºF.\n",
      "\n",
      "The standard deviations have the same relation as the independent data: ºF=1.8*ºC+32 and ºC=(ºF-32)/1.8\n"
     ]
    }
   ],
   "source": [
    "# 3. Average of each of the lists (ºC and ºF). How they relate?\n",
    "avg_ºC=sum(temperatures_C)/len(temperatures_C)\n",
    "avg_ºF=sum(temperatures_F)/len(temperatures_F)\n",
    "\n",
    "\n",
    "print(\"The averege value of the temperature lists are\",round(avg_ºC), \"for the ºC, and\", round(avg_ºF),\"for the ºF.\\n\")\n",
    "\n",
    "if round(avg_ºC)==round((avg_ºF-32)/1.8) and round(avg_ºF)==round(1.8*avg_ºC+32):\n",
    "    print(\"The averages have the same relation as the independent data: ºF=1.8*ºC+32 and ºC=(ºF-32)/1.8\")"
   ]
  },
  {
   "cell_type": "markdown",
   "metadata": {},
   "source": [
    "**Expected output**: \n",
    "```\n",
    "62.833333333333336\n",
    "145.1\n",
    "145.1 145.10000000000002\n",
    "```"
   ]
  },
  {
   "cell_type": "code",
   "execution_count": 66,
   "metadata": {},
   "outputs": [
    {
     "name": "stdout",
     "output_type": "stream",
     "text": [
      "The standard deviation in ºC is 14.633485192833897 \n",
      "\n",
      "The standard deviation in ºF is 26.34027334710101 \n",
      "\n"
     ]
    }
   ],
   "source": [
    "# 4. Standard deviation of each of the lists. How they relate?\n",
    "temperatures_C\n",
    "avg_ºC\n",
    "\n",
    "calc_C = []\n",
    "\n",
    "for i in temperatures_C:\n",
    "    calc_C.append((i-avg_ºC)**2)\n",
    "    \n",
    "sd_C=((sum(calc_C))/len(temperatures_C))**(1/2)\n",
    "\n",
    "print(\"The standard deviation in ºC is\", sd_C,\"\\n\")\n",
    "\n",
    "temperatures_F\n",
    "avg_ºF\n",
    "\n",
    "calc_F = []\n",
    "\n",
    "for i in temperatures_F:\n",
    "    calc_F.append((i-avg_ºF)**2)\n",
    "    \n",
    "sd_F=(sum(calc_F)/len(temperatures_F))**(1/2)\n",
    "\n",
    "print(\"The standard deviation in ºF is\", sd_F,\"\\n\")\n",
    "\n",
    "\n",
    "if round(sd_C)==round((sd_F-32)/1.8) and round(sd_F)==round(1.8*sd_C+32):\n",
    "    print(\"The standard deviations have the same relation as the independent data: ºF=1.8*ºC+32 and ºC=(ºF-32)/1.8\")\n",
    "    "
   ]
  },
  {
   "cell_type": "markdown",
   "metadata": {},
   "source": [
    "**Expected output**: \n",
    "```\n",
    "14.633485192833897\n",
    "26.34027334710101\n",
    "26.34027334710101 26.340273347101014\n",
    "```"
   ]
  },
  {
   "cell_type": "code",
   "execution_count": 43,
   "metadata": {},
   "outputs": [
    {
     "name": "stdout",
     "output_type": "stream",
     "text": [
      "The averege value of the temperature lists are 62.833333333333336 for the Celsius, and 145.1 for the Fahrenheit.\n",
      "\n",
      "The standard deviation in ºC is 14.633485192833897 \n",
      "\n",
      "The standard deviation in ºF is 26.340273347101014 \n",
      "\n"
     ]
    }
   ],
   "source": [
    "import statistics\n",
    "\n",
    "print(\"The averege value of the temperature lists are\", statistics.mean(temperatures_C),\"for the Celsius, and\", statistics.mean(temperatures_F) ,\"for the Fahrenheit.\\n\")\n",
    "\n",
    "print(\"The standard deviation in ºC is\", statistics.pstdev(temperatures_C),\"\\n\")\n",
    "print(\"The standard deviation in ºF is\", statistics.pstdev(temperatures_F),\"\\n\")"
   ]
  }
 ],
 "metadata": {
  "kernelspec": {
   "display_name": "Python 3",
   "language": "python",
   "name": "python3"
  },
  "language_info": {
   "codemirror_mode": {
    "name": "ipython",
    "version": 3
   },
   "file_extension": ".py",
   "mimetype": "text/x-python",
   "name": "python",
   "nbconvert_exporter": "python",
   "pygments_lexer": "ipython3",
   "version": "3.8.5"
  }
 },
 "nbformat": 4,
 "nbformat_minor": 2
}
