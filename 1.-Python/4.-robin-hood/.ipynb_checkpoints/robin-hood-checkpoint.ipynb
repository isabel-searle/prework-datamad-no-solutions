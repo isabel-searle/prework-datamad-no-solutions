{
 "cells": [
  {
   "cell_type": "markdown",
   "metadata": {},
   "source": [
    "# Robin Hood\n",
    "## Intro\n",
    "We are in a competition to win the archery contest in Sherwood. With our bow and arrows we shoot on a target and try to hit as close as possible to the center.\n",
    "\n",
    "The center of the target is represented by the values (0, 0) on the coordinate axes.\n",
    "\n",
    "![](images/arrows.jpg)\n",
    "\n",
    "## Goals:\n",
    "* data structures: lists, sets, tuples\n",
    "* logical operators: if-elif-else\n",
    "* loop: while/for\n",
    "* minimum (optional sorting)\n",
    "\n",
    "## Description:\n",
    "In the 2-dimensional space, a point can be defined by a pair of values that correspond to the horizontal coordinate (x) and the vertical coordinate (y). The space can be divided into 4 zones (quadrants): Q1, Q2, Q3, Q4. Whose single point of union is the point (0, 0).\n",
    "\n",
    "If a point is in Q1 both its x coordinate and the y are positive. I leave a link to wikipedia to familiarize yourself with these quadrants.\n",
    "\n",
    "https://en.wikipedia.org/wiki/Cartesian_coordinate_system\n",
    "\n",
    "https://en.wikipedia.org/wiki/Euclidean_distance\n",
    "\n",
    "## Shots\n",
    "```\n",
    "points = [(4, 5), (-0, 2), (4, 7), (1, -3), (3, -2), (4, 5),\n",
    "          (3, 2), (5, 7), (-5, 7), (2, 2), (-4, 5), (0, -2),\n",
    "          (-4, 7), (-1, 3), (-3, 2), (-4, -5), (-3, 2),\n",
    "          (5, 7), (5, 7), (2, 2), (9, 9), (-8, -9)]\n",
    "```\n",
    "\n",
    "## Tasks\n",
    "1. Robin Hood is famous for hitting an arrow with another arrow. Did you get it?\n",
    "2. Calculate how many arrows have fallen in each quadrant.\n",
    "3. Find the point closest to the center. Calculate its distance to the center. \n",
    "4. If the target has a radius of 9, calculate the number of arrows that must be picked up in the forest."
   ]
  },
  {
   "cell_type": "code",
   "execution_count": 17,
   "metadata": {},
   "outputs": [],
   "source": [
    "# Variables\n",
    "\n",
    "points = [(4, 5), (-0, 2), (4, 7), (1, -3), (3, -2), (4, 5),\n",
    "          (3, 2), (5, 7), (-5, 7), (2, 2), (-4, 5), (0, -2),\n",
    "          (-4, 7), (-1, 3), (-3, 2), (-4, -5), (-3, 2),\n",
    "          (5, 7), (5, 7), (2, 2), (9, 9), (-8, -9)]"
   ]
  },
  {
   "cell_type": "code",
   "execution_count": 57,
   "metadata": {},
   "outputs": [
    {
     "name": "stdout",
     "output_type": "stream",
     "text": [
      "True\n",
      "{(-3, 2), (4, 5), (5, 7), (2, 2)}\n"
     ]
    }
   ],
   "source": [
    "# 1. Robin Hood is famous for hitting an arrow with another arrow. Did you get it?\n",
    "repeated_hit=[]\n",
    "for i in range(0,len(points)):\n",
    "    for j in range(0,len(points)):\n",
    "        if points[i] == points[j] and i != j:\n",
    "            repeated_hit.append(points[i])\n",
    "\n",
    "print(repeated_hit != [])          \n",
    "print(set(repeated_hit))\n"
   ]
  },
  {
   "cell_type": "markdown",
   "metadata": {},
   "source": [
    "**Expected output**:\n",
    "```\n",
    "True\n",
    "```"
   ]
  },
  {
   "cell_type": "code",
   "execution_count": 7,
   "metadata": {},
   "outputs": [
    {
     "name": "stdout",
     "output_type": "stream",
     "text": [
      "In Q1 have fallen 10  arrows. \n",
      "\n",
      "In Q2 have fallen 6  arrows. \n",
      "\n",
      "In Q3 have fallen 2  arrows. \n",
      "\n",
      "In Q4 have fallen 2  arrows. \n",
      "\n",
      "2 arrows don't belong to any quadrant.\n",
      "\n"
     ]
    }
   ],
   "source": [
    "# 2. Calculate how many arrows have fallen in each quadrant.\n",
    "Q_I=0\n",
    "Q_II=0\n",
    "Q_III=0\n",
    "Q_IV=0\n",
    "no_q=0\n",
    "for x,y in points:\n",
    "    if x>0 and y>0:\n",
    "        Q_I+=1\n",
    "    elif x<0 and y<0:\n",
    "        Q_III+=1\n",
    "    elif x>0 and y<0:\n",
    "        Q_IV+=1\n",
    "    elif x<0 and y>0:\n",
    "        Q_II+=1\n",
    "    else:\n",
    "        no_q+=1\n",
    "\n",
    "print(\"In Q1 have fallen\",Q_I,\" arrows. \\n\")\n",
    "print(\"In Q2 have fallen\",Q_II,\" arrows. \\n\")\n",
    "print(\"In Q3 have fallen\",Q_III,\" arrows. \\n\")\n",
    "print(\"In Q4 have fallen\",Q_IV,\" arrows. \\n\")\n",
    "print(no_q,\"arrows don't belong to any quadrant.\\n\")"
   ]
  },
  {
   "cell_type": "markdown",
   "metadata": {},
   "source": [
    "**Expected output**:\n",
    "```\n",
    "(10, 6, 2, 2)\n",
    "```"
   ]
  },
  {
   "cell_type": "code",
   "execution_count": 34,
   "metadata": {},
   "outputs": [
    {
     "name": "stdout",
     "output_type": "stream",
     "text": [
      "(0, 2)\n",
      "(0, -2)\n"
     ]
    }
   ],
   "source": [
    "# 3. Find the point closest to the center. Calculate its distance to the center\n",
    "# Defining a function that calculates the distance to the center can help.\n",
    "def dist_btw_2p(p1,p2):\n",
    "    return(((p1[0]-p2[0])**2)+((p1[1]-p2[1])**2))**(1/2)\n",
    "dist_each_point=[]\n",
    "centre = (0, 0)\n",
    "for i in points:\n",
    "    dist_each_point.append(dist_btw_2p(i,centre))\n",
    "dist_each_point\n",
    "min_value=min(dist_each_point)\n",
    "for i in range(0,len(dist_each_point)):\n",
    "    if dist_each_point[i] == min_value:\n",
    "        print(points[i])"
   ]
  },
  {
   "cell_type": "markdown",
   "metadata": {},
   "source": [
    "**Expected output**:\n",
    "```\n",
    "(0, 2)\n",
    "2.0\n",
    "```"
   ]
  },
  {
   "cell_type": "code",
   "execution_count": 40,
   "metadata": {},
   "outputs": [
    {
     "name": "stdout",
     "output_type": "stream",
     "text": [
      "[(9, 9), (-8, -9)]\n",
      "The number of arrows that must be picked up in the forest is 2\n"
     ]
    }
   ],
   "source": [
    "# 4. If the target has a radius of 9, calculate the number of arrows that \n",
    "# must be picked up in the forest.\n",
    "arrows_out_of_target=0\n",
    "centre = (0, 0)\n",
    "arrows_o_o_t=[]\n",
    "for i in points:\n",
    "    if dist_btw_2p(i,centre)>9:\n",
    "        arrows_o_o_t.append(i)\n",
    "        arrows_out_of_target+=1\n",
    "print(arrows_o_o_t)        \n",
    "print(\"The number of arrows that must be picked up in the forest is\",arrows_out_of_target)        "
   ]
  },
  {
   "cell_type": "markdown",
   "metadata": {},
   "source": [
    "**Expected output**:\n",
    "```\n",
    "[(9, 9), (-8, -9)]\n",
    "2\n",
    "```"
   ]
  }
 ],
 "metadata": {
  "kernelspec": {
   "display_name": "Python 3",
   "language": "python",
   "name": "python3"
  },
  "language_info": {
   "codemirror_mode": {
    "name": "ipython",
    "version": 3
   },
   "file_extension": ".py",
   "mimetype": "text/x-python",
   "name": "python",
   "nbconvert_exporter": "python",
   "pygments_lexer": "ipython3",
   "version": "3.8.5"
  }
 },
 "nbformat": 4,
 "nbformat_minor": 2
}
